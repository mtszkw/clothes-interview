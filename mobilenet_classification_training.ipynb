{
  "nbformat": 4,
  "nbformat_minor": 0,
  "metadata": {
    "colab": {
      "name": "mobilenet_classification_training.ipynb",
      "provenance": [],
      "collapsed_sections": [],
      "toc_visible": true,
      "authorship_tag": "ABX9TyOKPQ1f+m5kEgCsvHYIC+SR"
    },
    "kernelspec": {
      "name": "python3",
      "display_name": "Python 3"
    },
    "accelerator": "GPU"
  },
  "cells": [
    {
      "cell_type": "code",
      "metadata": {
        "id": "URFMH2FHSb20"
      },
      "source": [
        "# !pip show pandas numpy matplotlib tensorflow optuna albumentations\n",
        "!pip install --quiet tensorflow==2.4.1 matplotlib==3.2.2 pandas==1.1.5 numpy==1.19.5 albumentations==0.1.12"
      ],
      "execution_count": 19,
      "outputs": []
    },
    {
      "cell_type": "code",
      "metadata": {
        "colab": {
          "base_uri": "https://localhost:8080/"
        },
        "id": "frljmpztSUd7",
        "outputId": "4682b77b-7961-4ec9-888f-8c5cb58bfc4c"
      },
      "source": [
        "# Seems to be pretty decent dataset (train/valid/test split, good-quality images, lightweight) for this task.\n",
        "\n",
        "# https://github.com/alexeygrigorev/clothing-dataset-small\n",
        "!git clone https://github.com/alexeygrigorev/clothing-dataset-small"
      ],
      "execution_count": 20,
      "outputs": [
        {
          "output_type": "stream",
          "text": [
            "fatal: destination path 'clothing-dataset-small' already exists and is not an empty directory.\n"
          ],
          "name": "stdout"
        }
      ]
    },
    {
      "cell_type": "code",
      "metadata": {
        "id": "6MwXvG-hTUYe"
      },
      "source": [
        "import os\n",
        "\n",
        "import cv2\n",
        "import matplotlib.pyplot as plt\n",
        "import numpy as np\n",
        "from sklearn.metrics import confusion_matrix\n",
        "import tensorflow as tf\n",
        "from tensorflow.keras.applications import MobileNetV2\n",
        "from tensorflow.keras.applications.mobilenet_v2 import preprocess_input \n",
        "from tensorflow.keras.preprocessing.image import ImageDataGenerator\n",
        "import seaborn as sns"
      ],
      "execution_count": 21,
      "outputs": []
    },
    {
      "cell_type": "code",
      "metadata": {
        "id": "aiu9VH7gwiJ3"
      },
      "source": [
        "class Config:\n",
        "    seed = 2020\n",
        "    batch_size = 64\n",
        "    img_width = 224\n",
        "    img_height = 224\n",
        "    num_classes = 10\n",
        "    num_epochs = 300\n",
        "    init_lr = 1e-2\n",
        "    dataset_directory = \"./clothing-dataset-small/\"\n",
        "    checkpt_directory = \"/content/mobilenet_fashion_clothes_clf/\"\n",
        "    checkpt_tar_path = \"/content/mobilenet_fashion_clothes_clf.tar.gz\"\n",
        "\n",
        "config = Config()"
      ],
      "execution_count": 22,
      "outputs": []
    },
    {
      "cell_type": "code",
      "metadata": {
        "colab": {
          "base_uri": "https://localhost:8080/"
        },
        "id": "DuHaBzwvUMte",
        "outputId": "d10a641d-56f9-4890-969f-2c04fa13db20"
      },
      "source": [
        "# Converts image pixel values to [0, 255] range.\n",
        "# This seems to be necessary for this dataset as\n",
        "# MobileNetV2 doesn't handle [-1, 1] range properly.\n",
        "def preprocess_func(img):\n",
        "    img = cv2.normalize(\n",
        "        img, None, alpha=0, beta=255,\n",
        "        norm_type=cv2.NORM_MINMAX, dtype=cv2.CV_32F)\n",
        "    img = preprocess_input(img)\n",
        "    return img\n",
        "\n",
        "# Augmentations for both training & validation, shuffling only training set.\n",
        "transforms = {\n",
        "    'rotation_range': 20,\n",
        "    'width_shift_range': 0.2,\n",
        "    'height_shift_range': 0.2,\n",
        "    'zoom_range': 0.2,\n",
        "    'horizontal_flip': True,\n",
        "}\n",
        "\n",
        "train_gen = ImageDataGenerator(preprocessing_function=preprocess_func, **transforms)\n",
        "valid_gen = ImageDataGenerator(preprocessing_function=preprocess_func, **transforms)\n",
        "\n",
        "train_ds = train_gen.flow_from_directory(\n",
        "    os.path.join(config.dataset_directory, \"train/\"),\n",
        "    seed=config.seed,\n",
        "    target_size=(config.img_width, config.img_height),\n",
        "    batch_size=config.batch_size,\n",
        "    shuffle=True)\n",
        "\n",
        "val_ds = valid_gen.flow_from_directory(\n",
        "    os.path.join(config.dataset_directory, \"validation/\"),\n",
        "    seed=config.seed,\n",
        "    target_size=(config.img_width, config.img_height),\n",
        "    batch_size=config.batch_size,\n",
        "    shuffle=False)"
      ],
      "execution_count": 23,
      "outputs": [
        {
          "output_type": "stream",
          "text": [
            "Found 3068 images belonging to 10 classes.\n",
            "Found 341 images belonging to 10 classes.\n"
          ],
          "name": "stdout"
        }
      ]
    },
    {
      "cell_type": "code",
      "metadata": {
        "id": "0M65p2WydS8w"
      },
      "source": [
        "# MobileNetV2 because it's the smallest model available in Keras API.\n",
        "# https://keras.io/api/applications/mobilenet/#mobilenetv2-function\n",
        "def get_model(config):\n",
        "    mobileNet_base = MobileNetV2(\n",
        "        input_shape=(config.img_width, config.img_height, 3),\n",
        "        include_top=False,\n",
        "        weights=\"imagenet\",\n",
        "        classes=config.num_classes,\n",
        "        classifier_activation=\"softmax\",\n",
        "    )\n",
        "\n",
        "    # Fine-tuning only top layers, extractor trained on imagenet should be cool.\n",
        "    mobileNet_base.trainable = False\n",
        "\n",
        "    # Didn't experiment with these (HPO)\n",
        "    model = tf.keras.Sequential()\n",
        "    model.add(mobileNet_base)\n",
        "    model.add(tf.keras.layers.GlobalAveragePooling2D())\n",
        "    model.add(tf.keras.layers.Dense(256, activation='relu'))\n",
        "    model.add(tf.keras.layers.Dropout(0.2))\n",
        "    model.add(tf.keras.layers.Dense(128, activation='relu'))\n",
        "    model.add(tf.keras.layers.Dropout(0.1))\n",
        "    model.add(tf.keras.layers.Dense(config.num_classes, activation='softmax'))\n",
        "    return model\n",
        "\n",
        "\n",
        "model = get_model(config)\n",
        "model.compile(\n",
        "    optimizer=tf.keras.optimizers.Adam(config.init_lr),\n",
        "    loss=tf.keras.losses.CategoricalCrossentropy(from_logits=True),\n",
        "    metrics=[\"accuracy\"],\n",
        ")"
      ],
      "execution_count": 24,
      "outputs": []
    },
    {
      "cell_type": "markdown",
      "metadata": {
        "id": "kgVqAwle5eiD"
      },
      "source": [
        "### Training"
      ]
    },
    {
      "cell_type": "code",
      "metadata": {
        "colab": {
          "base_uri": "https://localhost:8080/"
        },
        "id": "3eltlHuhd_r9",
        "outputId": "f7e3f37e-4fef-4323-c6b5-3ba009f447de"
      },
      "source": [
        "# Classic setup\n",
        "\n",
        "lr_sched = tf.keras.callbacks.ReduceLROnPlateau(\n",
        "    monitor='val_loss', min_delta=0.01, patience=10, factor=0.25, verbose=1)\n",
        "\n",
        "early_stop = tf.keras.callbacks.EarlyStopping(\n",
        "    monitor='val_loss', min_delta=0.01, patience=20, verbose=1, restore_best_weights=True)\n",
        "\n",
        "history = model.fit(\n",
        "    train_ds,\n",
        "    validation_data=val_ds,\n",
        "    epochs=config.num_epochs,\n",
        "    verbose=1,\n",
        "    batch_size=config.batch_size,\n",
        "    callbacks=[lr_sched, early_stop])\n",
        "\n",
        "# Use tarfile so it takes less space when uploaded to repo\n",
        "# Saving only at the end, because of restore_best_weights=True\n",
        "model.save(config.checkpt_directory)\n",
        "!tar -czvf $config.checkpt_tar_path $config.checkpt_directory"
      ],
      "execution_count": 25,
      "outputs": [
        {
          "output_type": "stream",
          "text": [
            "Epoch 1/300\n",
            "48/48 [==============================] - 81s 978ms/step - loss: 3.4599 - accuracy: 0.3181 - val_loss: 0.8614 - val_accuracy: 0.7243\n",
            "Epoch 2/300\n",
            "48/48 [==============================] - 45s 942ms/step - loss: 0.8550 - accuracy: 0.7135 - val_loss: 0.6612 - val_accuracy: 0.7478\n",
            "Epoch 3/300\n",
            "48/48 [==============================] - 45s 943ms/step - loss: 0.7334 - accuracy: 0.7411 - val_loss: 0.6378 - val_accuracy: 0.7801\n",
            "Epoch 4/300\n",
            "48/48 [==============================] - 45s 943ms/step - loss: 0.6881 - accuracy: 0.7626 - val_loss: 0.6352 - val_accuracy: 0.7683\n",
            "Epoch 5/300\n",
            "48/48 [==============================] - 46s 963ms/step - loss: 0.6474 - accuracy: 0.7772 - val_loss: 0.7099 - val_accuracy: 0.7478\n",
            "Epoch 6/300\n",
            "48/48 [==============================] - 47s 980ms/step - loss: 0.6663 - accuracy: 0.7768 - val_loss: 0.6899 - val_accuracy: 0.7654\n",
            "Epoch 7/300\n",
            "48/48 [==============================] - 47s 974ms/step - loss: 0.6299 - accuracy: 0.7779 - val_loss: 0.7123 - val_accuracy: 0.7507\n",
            "Epoch 8/300\n",
            "48/48 [==============================] - 47s 978ms/step - loss: 0.6383 - accuracy: 0.7953 - val_loss: 0.6488 - val_accuracy: 0.7625\n",
            "Epoch 9/300\n",
            "48/48 [==============================] - 46s 965ms/step - loss: 0.6314 - accuracy: 0.7859 - val_loss: 0.6193 - val_accuracy: 0.7742\n",
            "Epoch 10/300\n",
            "48/48 [==============================] - 46s 957ms/step - loss: 0.5811 - accuracy: 0.8064 - val_loss: 0.5998 - val_accuracy: 0.7918\n",
            "Epoch 11/300\n",
            "48/48 [==============================] - 46s 951ms/step - loss: 0.5296 - accuracy: 0.8240 - val_loss: 0.5909 - val_accuracy: 0.7918\n",
            "Epoch 12/300\n",
            "48/48 [==============================] - 46s 955ms/step - loss: 0.5458 - accuracy: 0.8194 - val_loss: 0.6916 - val_accuracy: 0.7566\n",
            "Epoch 13/300\n",
            "48/48 [==============================] - 46s 958ms/step - loss: 0.5439 - accuracy: 0.8201 - val_loss: 0.6887 - val_accuracy: 0.7830\n",
            "Epoch 14/300\n",
            "48/48 [==============================] - 46s 958ms/step - loss: 0.5171 - accuracy: 0.8203 - val_loss: 0.5934 - val_accuracy: 0.8094\n",
            "Epoch 15/300\n",
            "48/48 [==============================] - 46s 956ms/step - loss: 0.4905 - accuracy: 0.8331 - val_loss: 0.6738 - val_accuracy: 0.7918\n",
            "Epoch 16/300\n",
            "48/48 [==============================] - 46s 952ms/step - loss: 0.5720 - accuracy: 0.8109 - val_loss: 0.6721 - val_accuracy: 0.7977\n",
            "Epoch 17/300\n",
            "48/48 [==============================] - 46s 954ms/step - loss: 0.5078 - accuracy: 0.8327 - val_loss: 0.6848 - val_accuracy: 0.7977\n",
            "Epoch 18/300\n",
            "48/48 [==============================] - 46s 954ms/step - loss: 0.5415 - accuracy: 0.8209 - val_loss: 0.7663 - val_accuracy: 0.7742\n",
            "Epoch 19/300\n",
            "48/48 [==============================] - 46s 954ms/step - loss: 0.4673 - accuracy: 0.8476 - val_loss: 0.7529 - val_accuracy: 0.7683\n",
            "Epoch 20/300\n",
            "48/48 [==============================] - 46s 959ms/step - loss: 0.4499 - accuracy: 0.8550 - val_loss: 0.7627 - val_accuracy: 0.7566\n",
            "\n",
            "Epoch 00020: ReduceLROnPlateau reducing learning rate to 0.0024999999441206455.\n",
            "Epoch 21/300\n",
            "48/48 [==============================] - 46s 958ms/step - loss: 0.4075 - accuracy: 0.8589 - val_loss: 0.5909 - val_accuracy: 0.8065\n",
            "Epoch 22/300\n",
            "48/48 [==============================] - 46s 956ms/step - loss: 0.3884 - accuracy: 0.8714 - val_loss: 0.5934 - val_accuracy: 0.8035\n",
            "Epoch 23/300\n",
            "48/48 [==============================] - 46s 961ms/step - loss: 0.3720 - accuracy: 0.8745 - val_loss: 0.6389 - val_accuracy: 0.7947\n",
            "Epoch 24/300\n",
            "48/48 [==============================] - 46s 958ms/step - loss: 0.3347 - accuracy: 0.8841 - val_loss: 0.5074 - val_accuracy: 0.8328\n",
            "Epoch 25/300\n",
            "48/48 [==============================] - 46s 961ms/step - loss: 0.3232 - accuracy: 0.8902 - val_loss: 0.5352 - val_accuracy: 0.8123\n",
            "Epoch 26/300\n",
            "48/48 [==============================] - 46s 957ms/step - loss: 0.3243 - accuracy: 0.8903 - val_loss: 0.5382 - val_accuracy: 0.8328\n",
            "Epoch 27/300\n",
            "48/48 [==============================] - 46s 958ms/step - loss: 0.3128 - accuracy: 0.9013 - val_loss: 0.5123 - val_accuracy: 0.8211\n",
            "Epoch 28/300\n",
            "48/48 [==============================] - 46s 952ms/step - loss: 0.3032 - accuracy: 0.8882 - val_loss: 0.4742 - val_accuracy: 0.8534\n",
            "Epoch 29/300\n",
            "48/48 [==============================] - 46s 957ms/step - loss: 0.3170 - accuracy: 0.8994 - val_loss: 0.5816 - val_accuracy: 0.8270\n",
            "Epoch 30/300\n",
            "48/48 [==============================] - 46s 953ms/step - loss: 0.2789 - accuracy: 0.8973 - val_loss: 0.6098 - val_accuracy: 0.7977\n",
            "Epoch 31/300\n",
            "48/48 [==============================] - 46s 957ms/step - loss: 0.3366 - accuracy: 0.8795 - val_loss: 0.5628 - val_accuracy: 0.8094\n",
            "Epoch 32/300\n",
            "48/48 [==============================] - 46s 953ms/step - loss: 0.3134 - accuracy: 0.8944 - val_loss: 0.6070 - val_accuracy: 0.7918\n",
            "Epoch 33/300\n",
            "48/48 [==============================] - 46s 963ms/step - loss: 0.3082 - accuracy: 0.8930 - val_loss: 0.5210 - val_accuracy: 0.8387\n",
            "Epoch 34/300\n",
            "48/48 [==============================] - 46s 959ms/step - loss: 0.2735 - accuracy: 0.9100 - val_loss: 0.5736 - val_accuracy: 0.8094\n",
            "Epoch 35/300\n",
            "48/48 [==============================] - 46s 959ms/step - loss: 0.3180 - accuracy: 0.8966 - val_loss: 0.5468 - val_accuracy: 0.8299\n",
            "Epoch 36/300\n",
            "48/48 [==============================] - 46s 960ms/step - loss: 0.3197 - accuracy: 0.8913 - val_loss: 0.6271 - val_accuracy: 0.8240\n",
            "Epoch 37/300\n",
            "48/48 [==============================] - 46s 956ms/step - loss: 0.2605 - accuracy: 0.9188 - val_loss: 0.5460 - val_accuracy: 0.8006\n",
            "Epoch 38/300\n",
            "48/48 [==============================] - 46s 954ms/step - loss: 0.2751 - accuracy: 0.9008 - val_loss: 0.5472 - val_accuracy: 0.8065\n",
            "\n",
            "Epoch 00038: ReduceLROnPlateau reducing learning rate to 0.0006249999860301614.\n",
            "Epoch 39/300\n",
            "48/48 [==============================] - 46s 955ms/step - loss: 0.2766 - accuracy: 0.9072 - val_loss: 0.5502 - val_accuracy: 0.8152\n",
            "Epoch 40/300\n",
            "48/48 [==============================] - 46s 961ms/step - loss: 0.2950 - accuracy: 0.8970 - val_loss: 0.6070 - val_accuracy: 0.7977\n",
            "Epoch 41/300\n",
            "48/48 [==============================] - 46s 953ms/step - loss: 0.2575 - accuracy: 0.9191 - val_loss: 0.6273 - val_accuracy: 0.8182\n",
            "Epoch 42/300\n",
            "48/48 [==============================] - 46s 954ms/step - loss: 0.2316 - accuracy: 0.9226 - val_loss: 0.5669 - val_accuracy: 0.8240\n",
            "Epoch 43/300\n",
            "48/48 [==============================] - 46s 955ms/step - loss: 0.2681 - accuracy: 0.9172 - val_loss: 0.5481 - val_accuracy: 0.8475\n",
            "Epoch 44/300\n",
            "48/48 [==============================] - 46s 959ms/step - loss: 0.2454 - accuracy: 0.9142 - val_loss: 0.5338 - val_accuracy: 0.8152\n",
            "Epoch 45/300\n",
            "48/48 [==============================] - 46s 958ms/step - loss: 0.2530 - accuracy: 0.9183 - val_loss: 0.5609 - val_accuracy: 0.8094\n",
            "Epoch 46/300\n",
            "48/48 [==============================] - 46s 953ms/step - loss: 0.2617 - accuracy: 0.9145 - val_loss: 0.5789 - val_accuracy: 0.8182\n",
            "Epoch 47/300\n",
            "48/48 [==============================] - 46s 962ms/step - loss: 0.2635 - accuracy: 0.9161 - val_loss: 0.5453 - val_accuracy: 0.8387\n",
            "Epoch 48/300\n",
            "48/48 [==============================] - 46s 950ms/step - loss: 0.2349 - accuracy: 0.9196 - val_loss: 0.5322 - val_accuracy: 0.8387\n",
            "\n",
            "Epoch 00048: ReduceLROnPlateau reducing learning rate to 0.00015624999650754035.\n",
            "Restoring model weights from the end of the best epoch.\n",
            "Epoch 00048: early stopping\n",
            "INFO:tensorflow:Assets written to: /content/mobilenet_fashion_clothes_clf/assets\n",
            "tar: Removing leading `/' from member names\n",
            "/content/mobilenet_fashion_clothes_clf/\n",
            "/content/mobilenet_fashion_clothes_clf/saved_model.pb\n",
            "/content/mobilenet_fashion_clothes_clf/assets/\n",
            "/content/mobilenet_fashion_clothes_clf/variables/\n",
            "/content/mobilenet_fashion_clothes_clf/variables/variables.data-00000-of-00001\n",
            "/content/mobilenet_fashion_clothes_clf/variables/variables.index\n"
          ],
          "name": "stdout"
        }
      ]
    },
    {
      "cell_type": "markdown",
      "metadata": {
        "id": "tfgVDYTh5bwe"
      },
      "source": [
        "### Training History Visualization"
      ]
    },
    {
      "cell_type": "code",
      "metadata": {
        "id": "wfCG9Pb3uPuH",
        "colab": {
          "base_uri": "https://localhost:8080/",
          "height": 279
        },
        "outputId": "526bd41a-57bb-42a3-8d64-cee18b2092e7"
      },
      "source": [
        "# Seems OK for me, no under/overfitting here\n",
        "\n",
        "fig, axs = plt.subplots(nrows=1, ncols=2, figsize=(20, 4))\n",
        "\n",
        "axs[0].plot(history.history['loss'], label='loss')\n",
        "axs[0].plot(history.history['val_loss'], label='val_loss')\n",
        "axs[0].set_xlabel('Epoch')\n",
        "axs[0].set_ylabel('Loss')\n",
        "\n",
        "axs[1].plot(history.history['accuracy'], label='acc')\n",
        "axs[1].plot(history.history['val_accuracy'], label='val_acc')\n",
        "axs[1].set_xlabel('Epoch')\n",
        "axs[1].set_ylabel('Accuracy')\n",
        "\n",
        "plt.legend();\n",
        "plt.show();"
      ],
      "execution_count": 26,
      "outputs": [
        {
          "output_type": "display_data",
          "data": {
            "image/png": "[encoded data removed]",
            "text/plain": [
              "<Figure size 1440x288 with 2 Axes>"
            ]
          },
          "metadata": {
            "tags": [],
            "needs_background": "light"
          }
        }
      ]
    },
    {
      "cell_type": "markdown",
      "metadata": {
        "id": "-XqXB1Ix5YIc"
      },
      "source": [
        "### Inference"
      ]
    },
    {
      "cell_type": "code",
      "metadata": {
        "id": "T9HuiDc7xny-",
        "colab": {
          "base_uri": "https://localhost:8080/"
        },
        "outputId": "f48f311f-1ab5-4b06-a759-4ca98eca0d1d"
      },
      "source": [
        "inference_model = tf.keras.models.load_model(config.checkpt_directory)\n",
        "\n",
        "test_gen = ImageDataGenerator(preprocessing_function=preprocess_func)\n",
        "test_ds = train_gen.flow_from_directory(\n",
        "    os.path.join(config.dataset_directory, \"test/\"),\n",
        "    seed=config.seed,\n",
        "    target_size=(config.img_width, config.img_height),\n",
        "    batch_size=config.batch_size,\n",
        "    shuffle=False)\n",
        "\n",
        "y_pred = inference_model.predict(test_ds)\n",
        "y_pred = np.argmax(y_pred, axis=1)"
      ],
      "execution_count": 29,
      "outputs": [
        {
          "output_type": "stream",
          "text": [
            "Found 372 images belonging to 10 classes.\n"
          ],
          "name": "stdout"
        }
      ]
    },
    {
      "cell_type": "markdown",
      "metadata": {
        "id": "b82EHTMO5VA8"
      },
      "source": [
        "### Confusion Matrix"
      ]
    },
    {
      "cell_type": "code",
      "metadata": {
        "id": "tHk9DKAQ3TBV"
      },
      "source": [
        "class_names = test_ds.class_indices\n",
        "class_names_list = list(class_names.keys())\n",
        "class_names = {v: k for k, v in class_names.items()}\n",
        "\n",
        "y_pred_labels = [class_names[x] for x in y_pred]\n",
        "y_true_labels = [class_names[x] for x in test_ds.classes]\n",
        "cm = confusion_matrix(y_pred_labels, y_true_labels)"
      ],
      "execution_count": 30,
      "outputs": []
    },
    {
      "cell_type": "code",
      "metadata": {
        "id": "TNrqYqHk4YTL",
        "colab": {
          "base_uri": "https://localhost:8080/",
          "height": 374
        },
        "outputId": "d95f2353-59e7-42e5-d0cf-faf3b47d7858"
      },
      "source": [
        "plt.figure(figsize=(20, 6))\n",
        "ax = sns.heatmap(cm, annot=True, fmt='d', xticklabels=class_names_list, yticklabels=class_names_list)\n",
        "plt.show()"
      ],
      "execution_count": 31,
      "outputs": [
        {
          "output_type": "display_data",
          "data": {
            "image/png": "[encoded data removed]",
            "text/plain": [
              "<Figure size 1440x432 with 2 Axes>"
            ]
          },
          "metadata": {
            "tags": [],
            "needs_background": "light"
          }
        }
      ]
    }
  ]
}